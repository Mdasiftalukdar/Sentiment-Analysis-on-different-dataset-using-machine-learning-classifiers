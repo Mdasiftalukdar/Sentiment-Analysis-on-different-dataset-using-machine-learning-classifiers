{
  "nbformat": 4,
  "nbformat_minor": 5,
  "metadata": {
    "kernelspec": {
      "display_name": "Python 3",
      "language": "python",
      "name": "python3"
    },
    "language_info": {
      "codemirror_mode": {
        "name": "ipython",
        "version": 3
      },
      "file_extension": ".py",
      "mimetype": "text/x-python",
      "name": "python",
      "nbconvert_exporter": "python",
      "pygments_lexer": "ipython3",
      "version": "3.8.8"
    },
    "colab": {
      "name": "Sentiment Analysis on different dataset.ipynb",
      "provenance": [],
      "include_colab_link": true
    }
  },
  "cells": [
    {
      "cell_type": "markdown",
      "metadata": {
        "id": "view-in-github",
        "colab_type": "text"
      },
      "source": [
        "<a href=\"https://colab.research.google.com/github/Mdasiftalukdar/Sentiment-Analysis-on-different-dataset-using-machine-learning-classifiers/blob/main/Sentiment_Analysis_on_different_dataset.ipynb\" target=\"_parent\"><img src=\"https://colab.research.google.com/assets/colab-badge.svg\" alt=\"Open In Colab\"/></a>"
      ]
    },
    {
      "cell_type": "markdown",
      "metadata": {
        "id": "nX_TAMKtLy7D"
      },
      "source": [
        "# **Loading libraries**"
      ],
      "id": "nX_TAMKtLy7D"
    },
    {
      "cell_type": "code",
      "metadata": {
        "id": "823100f8",
        "colab": {
          "base_uri": "https://localhost:8080/"
        },
        "outputId": "75232cd1-422a-4724-d788-e68e9ef1e28d"
      },
      "source": [
        "\n",
        "#Data manipulation \n",
        "import re\n",
        "import string\n",
        "import pandas as pd\n",
        "import numpy as np\n",
        "\n",
        "#Plotting\n",
        "import matplotlib.pyplot as plt\n",
        "import seaborn as sns\n",
        "import wordcloud \n",
        "from wordcloud import WordCloud, ImageColorGenerator\n",
        "\n",
        "#metrics\n",
        "from sklearn.metrics import f1_score , recall_score, accuracy_score, precision_score, confusion_matrix\n",
        "from sklearn.metrics import roc_curve, auc, classification_report\n",
        "\n",
        "from sklearn.feature_extraction.text import TfidfVectorizer\n",
        "from sklearn.model_selection import train_test_split\n",
        "\n",
        "#Classifiers \n",
        "from sklearn.naive_bayes import MultinomialNB\n",
        "from sklearn.tree import DecisionTreeClassifier\n",
        "from sklearn.linear_model import LogisticRegression\n",
        "from sklearn.ensemble import RandomForestClassifier, GradientBoostingClassifier\n",
        "from xgboost import XGBClassifier\n",
        "from sklearn.neighbors import KNeighborsClassifier\n",
        "from sklearn.svm import LinearSVC, SVC\n",
        "\n",
        "# Time and counters\n",
        "from time import perf_counter\n",
        "\n",
        "#grid search of params\n",
        "from sklearn.model_selection import GridSearchCV\n",
        "\n",
        "\n",
        "import warnings\n",
        "warnings.filterwarnings('ignore')\n",
        "\n",
        "# NLP lib\n",
        "import nltk\n",
        "nltk.download('punkt')\n",
        "nltk.download('stopwords')\n",
        "nltk.download('wordnet')\n",
        "\n",
        "from nltk.tokenize import word_tokenize\n",
        "from nltk import flatten , PorterStemmer, WordNetLemmatizer, FreqDist\n",
        "from collections import Counter\n",
        "\n",
        "from nltk.corpus import stopwords\n",
        "stopwords = stopwords.words('english')\n",
        "\n",
        "#Mark Down print\n",
        "from IPython.display import Markdown, display\n",
        "def printmd(string):\n",
        "    # Print with Markdowns    \n",
        "    display(Markdown(string))\n",
        "# To save the models\n",
        "import pickle"
      ],
      "id": "823100f8",
      "execution_count": 26,
      "outputs": [
        {
          "output_type": "stream",
          "name": "stdout",
          "text": [
            "[nltk_data] Downloading package punkt to /root/nltk_data...\n",
            "[nltk_data]   Package punkt is already up-to-date!\n",
            "[nltk_data] Downloading package stopwords to /root/nltk_data...\n",
            "[nltk_data]   Package stopwords is already up-to-date!\n",
            "[nltk_data] Downloading package wordnet to /root/nltk_data...\n",
            "[nltk_data]   Package wordnet is already up-to-date!\n"
          ]
        }
      ]
    },
    {
      "cell_type": "markdown",
      "metadata": {
        "id": "df9fc215"
      },
      "source": [
        "# Reading Data"
      ],
      "id": "df9fc215"
    },
    {
      "cell_type": "code",
      "metadata": {
        "id": "aEn6Z3K9-4l1",
        "colab": {
          "base_uri": "https://localhost:8080/"
        },
        "outputId": "e60409f9-9d3e-4ce5-f7e9-c152c80e851a"
      },
      "source": [
        "from google.colab import drive\n",
        "drive.mount('/content/drive')"
      ],
      "id": "aEn6Z3K9-4l1",
      "execution_count": 27,
      "outputs": [
        {
          "output_type": "stream",
          "name": "stdout",
          "text": [
            "Drive already mounted at /content/drive; to attempt to forcibly remount, call drive.mount(\"/content/drive\", force_remount=True).\n"
          ]
        }
      ]
    },
    {
      "cell_type": "code",
      "metadata": {
        "colab": {
          "base_uri": "https://localhost:8080/",
          "height": 202
        },
        "id": "692b0f34",
        "outputId": "cc1ec189-2ee9-40e2-98bc-99aa69ba864c"
      },
      "source": [
        "data = pd.read_csv('/content/drive/MyDrive/Colab Notebooks/datasets/Amazon 10k review.csv')\n",
        "data.head()"
      ],
      "id": "692b0f34",
      "execution_count": 28,
      "outputs": [
        {
          "output_type": "execute_result",
          "data": {
            "text/html": [
              "<div>\n",
              "<style scoped>\n",
              "    .dataframe tbody tr th:only-of-type {\n",
              "        vertical-align: middle;\n",
              "    }\n",
              "\n",
              "    .dataframe tbody tr th {\n",
              "        vertical-align: top;\n",
              "    }\n",
              "\n",
              "    .dataframe thead th {\n",
              "        text-align: right;\n",
              "    }\n",
              "</style>\n",
              "<table border=\"1\" class=\"dataframe\">\n",
              "  <thead>\n",
              "    <tr style=\"text-align: right;\">\n",
              "      <th></th>\n",
              "      <th>Score</th>\n",
              "      <th>Summary</th>\n",
              "      <th>Texts</th>\n",
              "    </tr>\n",
              "  </thead>\n",
              "  <tbody>\n",
              "    <tr>\n",
              "      <th>0</th>\n",
              "      <td>2</td>\n",
              "      <td>Great CD</td>\n",
              "      <td>My lovely Pat has one of the GREAT voices of h...</td>\n",
              "    </tr>\n",
              "    <tr>\n",
              "      <th>1</th>\n",
              "      <td>2</td>\n",
              "      <td>One of the best game music soundtracks - for a...</td>\n",
              "      <td>Despite the fact that I have only played a sma...</td>\n",
              "    </tr>\n",
              "    <tr>\n",
              "      <th>2</th>\n",
              "      <td>1</td>\n",
              "      <td>Batteries died within a year ...</td>\n",
              "      <td>I bought this charger in Jul 2003 and it worke...</td>\n",
              "    </tr>\n",
              "    <tr>\n",
              "      <th>3</th>\n",
              "      <td>2</td>\n",
              "      <td>works fine, but Maha Energy is better</td>\n",
              "      <td>Check out Maha Energy's website. Their Powerex...</td>\n",
              "    </tr>\n",
              "    <tr>\n",
              "      <th>4</th>\n",
              "      <td>2</td>\n",
              "      <td>Great for the non-audiophile</td>\n",
              "      <td>Reviewed quite a bit of the combo players and ...</td>\n",
              "    </tr>\n",
              "  </tbody>\n",
              "</table>\n",
              "</div>"
            ],
            "text/plain": [
              "   Score  ...                                              Texts\n",
              "0      2  ...  My lovely Pat has one of the GREAT voices of h...\n",
              "1      2  ...  Despite the fact that I have only played a sma...\n",
              "2      1  ...  I bought this charger in Jul 2003 and it worke...\n",
              "3      2  ...  Check out Maha Energy's website. Their Powerex...\n",
              "4      2  ...  Reviewed quite a bit of the combo players and ...\n",
              "\n",
              "[5 rows x 3 columns]"
            ]
          },
          "metadata": {},
          "execution_count": 28
        }
      ]
    },
    {
      "cell_type": "markdown",
      "metadata": {
        "id": "XF94RHsPITBx"
      },
      "source": [
        "# **Dataset Preprocessing**"
      ],
      "id": "XF94RHsPITBx"
    },
    {
      "cell_type": "code",
      "metadata": {
        "colab": {
          "base_uri": "https://localhost:8080/",
          "height": 202
        },
        "id": "6W7W_PUqVjvv",
        "outputId": "a98bf430-c14b-4658-fca3-efda18a85ce8"
      },
      "source": [
        "#replacing column label\n",
        "data.rename(columns={'Texts': 'Text'}, inplace=True)\n",
        "data.head()"
      ],
      "id": "6W7W_PUqVjvv",
      "execution_count": 29,
      "outputs": [
        {
          "output_type": "execute_result",
          "data": {
            "text/html": [
              "<div>\n",
              "<style scoped>\n",
              "    .dataframe tbody tr th:only-of-type {\n",
              "        vertical-align: middle;\n",
              "    }\n",
              "\n",
              "    .dataframe tbody tr th {\n",
              "        vertical-align: top;\n",
              "    }\n",
              "\n",
              "    .dataframe thead th {\n",
              "        text-align: right;\n",
              "    }\n",
              "</style>\n",
              "<table border=\"1\" class=\"dataframe\">\n",
              "  <thead>\n",
              "    <tr style=\"text-align: right;\">\n",
              "      <th></th>\n",
              "      <th>Score</th>\n",
              "      <th>Summary</th>\n",
              "      <th>Text</th>\n",
              "    </tr>\n",
              "  </thead>\n",
              "  <tbody>\n",
              "    <tr>\n",
              "      <th>0</th>\n",
              "      <td>2</td>\n",
              "      <td>Great CD</td>\n",
              "      <td>My lovely Pat has one of the GREAT voices of h...</td>\n",
              "    </tr>\n",
              "    <tr>\n",
              "      <th>1</th>\n",
              "      <td>2</td>\n",
              "      <td>One of the best game music soundtracks - for a...</td>\n",
              "      <td>Despite the fact that I have only played a sma...</td>\n",
              "    </tr>\n",
              "    <tr>\n",
              "      <th>2</th>\n",
              "      <td>1</td>\n",
              "      <td>Batteries died within a year ...</td>\n",
              "      <td>I bought this charger in Jul 2003 and it worke...</td>\n",
              "    </tr>\n",
              "    <tr>\n",
              "      <th>3</th>\n",
              "      <td>2</td>\n",
              "      <td>works fine, but Maha Energy is better</td>\n",
              "      <td>Check out Maha Energy's website. Their Powerex...</td>\n",
              "    </tr>\n",
              "    <tr>\n",
              "      <th>4</th>\n",
              "      <td>2</td>\n",
              "      <td>Great for the non-audiophile</td>\n",
              "      <td>Reviewed quite a bit of the combo players and ...</td>\n",
              "    </tr>\n",
              "  </tbody>\n",
              "</table>\n",
              "</div>"
            ],
            "text/plain": [
              "   Score  ...                                               Text\n",
              "0      2  ...  My lovely Pat has one of the GREAT voices of h...\n",
              "1      2  ...  Despite the fact that I have only played a sma...\n",
              "2      1  ...  I bought this charger in Jul 2003 and it worke...\n",
              "3      2  ...  Check out Maha Energy's website. Their Powerex...\n",
              "4      2  ...  Reviewed quite a bit of the combo players and ...\n",
              "\n",
              "[5 rows x 3 columns]"
            ]
          },
          "metadata": {},
          "execution_count": 29
        }
      ]
    },
    {
      "cell_type": "markdown",
      "metadata": {
        "id": "ycV9Cv5cIJqv"
      },
      "source": [
        "**Duplicate and Shape of dataset**"
      ],
      "id": "ycV9Cv5cIJqv"
    },
    {
      "cell_type": "code",
      "metadata": {
        "id": "53189e7f",
        "colab": {
          "base_uri": "https://localhost:8080/"
        },
        "outputId": "cd5f7507-0cf5-437b-fa4d-1c870134c040"
      },
      "source": [
        "data.shape"
      ],
      "id": "53189e7f",
      "execution_count": 127,
      "outputs": [
        {
          "output_type": "execute_result",
          "data": {
            "text/plain": [
              "(999, 3)"
            ]
          },
          "metadata": {},
          "execution_count": 127
        }
      ]
    },
    {
      "cell_type": "code",
      "metadata": {
        "id": "968f37ac",
        "colab": {
          "base_uri": "https://localhost:8080/"
        },
        "outputId": "ef81bfcf-199b-455b-dad9-027c107f8b3f"
      },
      "source": [
        "data.duplicated().sum()"
      ],
      "id": "968f37ac",
      "execution_count": 30,
      "outputs": [
        {
          "output_type": "execute_result",
          "data": {
            "text/plain": [
              "0"
            ]
          },
          "metadata": {},
          "execution_count": 30
        }
      ]
    },
    {
      "cell_type": "markdown",
      "metadata": {
        "id": "e9711e06"
      },
      "source": [
        "# Missing Data"
      ],
      "id": "e9711e06"
    },
    {
      "cell_type": "code",
      "metadata": {
        "colab": {
          "base_uri": "https://localhost:8080/"
        },
        "id": "4egLu3OKw87Q",
        "outputId": "426eb45b-f790-410d-b1f4-23d4fe9792d7"
      },
      "source": [
        "data.isnull().sum()"
      ],
      "id": "4egLu3OKw87Q",
      "execution_count": 31,
      "outputs": [
        {
          "output_type": "execute_result",
          "data": {
            "text/plain": [
              "Score      0\n",
              "Summary    0\n",
              "Text       0\n",
              "dtype: int64"
            ]
          },
          "metadata": {},
          "execution_count": 31
        }
      ]
    },
    {
      "cell_type": "code",
      "metadata": {
        "colab": {
          "base_uri": "https://localhost:8080/"
        },
        "id": "JUYHCBiWAQLD",
        "outputId": "45a205c5-2057-4bc8-cc76-dad10cdc02fd"
      },
      "source": [
        "data.dropna(subset=[\"Summary\"], inplace=True)\n",
        "data.isnull().sum()"
      ],
      "id": "JUYHCBiWAQLD",
      "execution_count": 129,
      "outputs": [
        {
          "output_type": "execute_result",
          "data": {
            "text/plain": [
              "Score      0\n",
              "Summary    0\n",
              "Text       0\n",
              "dtype: int64"
            ]
          },
          "metadata": {},
          "execution_count": 129
        }
      ]
    },
    {
      "cell_type": "code",
      "metadata": {
        "colab": {
          "base_uri": "https://localhost:8080/"
        },
        "id": "ao6QQgfhGFla",
        "outputId": "60cf432b-0425-446b-b395-bb4d7e75c8fc"
      },
      "source": [
        "data.shape"
      ],
      "id": "ao6QQgfhGFla",
      "execution_count": 130,
      "outputs": [
        {
          "output_type": "execute_result",
          "data": {
            "text/plain": [
              "(999, 3)"
            ]
          },
          "metadata": {},
          "execution_count": 130
        }
      ]
    },
    {
      "cell_type": "markdown",
      "metadata": {
        "id": "Cw_fjWTOG_k-"
      },
      "source": [
        "# **description of Text column**"
      ],
      "id": "Cw_fjWTOG_k-"
    },
    {
      "cell_type": "code",
      "metadata": {
        "colab": {
          "base_uri": "https://localhost:8080/"
        },
        "id": "_AQ49jXKGH9h",
        "outputId": "40cba415-a113-4580-b2ff-a67b79f5798a"
      },
      "source": [
        "data['Text'].str.split(' ').str.len().describe()"
      ],
      "id": "_AQ49jXKGH9h",
      "execution_count": null,
      "outputs": [
        {
          "output_type": "execute_result",
          "data": {
            "text/plain": [
              "count    999.000000\n",
              "mean      75.526527\n",
              "std       43.078609\n",
              "min       11.000000\n",
              "25%       39.000000\n",
              "50%       67.000000\n",
              "75%      104.000000\n",
              "max      189.000000\n",
              "Name: Text, dtype: float64"
            ]
          },
          "metadata": {},
          "execution_count": 34
        }
      ]
    },
    {
      "cell_type": "markdown",
      "metadata": {
        "id": "CrJI0b2WHHQZ"
      },
      "source": [
        "# **Description of Summary column**"
      ],
      "id": "CrJI0b2WHHQZ"
    },
    {
      "cell_type": "code",
      "metadata": {
        "colab": {
          "base_uri": "https://localhost:8080/"
        },
        "id": "PyshEL4eHWn4",
        "outputId": "ae1ef3cf-cd78-4cf0-9159-26344f312540"
      },
      "source": [
        "data['Summary'].str.split(' ').str.len().describe()"
      ],
      "id": "PyshEL4eHWn4",
      "execution_count": null,
      "outputs": [
        {
          "output_type": "execute_result",
          "data": {
            "text/plain": [
              "count    999.000000\n",
              "mean       4.531532\n",
              "std        2.695420\n",
              "min        1.000000\n",
              "25%        2.000000\n",
              "50%        4.000000\n",
              "75%        6.000000\n",
              "max       17.000000\n",
              "Name: Summary, dtype: float64"
            ]
          },
          "metadata": {},
          "execution_count": 6
        }
      ]
    },
    {
      "cell_type": "code",
      "metadata": {
        "colab": {
          "base_uri": "https://localhost:8080/",
          "height": 202
        },
        "id": "wVN1lh8oIjDj",
        "outputId": "64ed68fd-8dc8-4e5a-fd06-0c338c41a023"
      },
      "source": [
        "#converting Score column int to float \n",
        "data[\"Score\"] = data[\"Score\"].astype(float)\n",
        "data[\"Score\"].describe()\n",
        "data.head()\n"
      ],
      "id": "wVN1lh8oIjDj",
      "execution_count": 32,
      "outputs": [
        {
          "output_type": "execute_result",
          "data": {
            "text/html": [
              "<div>\n",
              "<style scoped>\n",
              "    .dataframe tbody tr th:only-of-type {\n",
              "        vertical-align: middle;\n",
              "    }\n",
              "\n",
              "    .dataframe tbody tr th {\n",
              "        vertical-align: top;\n",
              "    }\n",
              "\n",
              "    .dataframe thead th {\n",
              "        text-align: right;\n",
              "    }\n",
              "</style>\n",
              "<table border=\"1\" class=\"dataframe\">\n",
              "  <thead>\n",
              "    <tr style=\"text-align: right;\">\n",
              "      <th></th>\n",
              "      <th>Score</th>\n",
              "      <th>Summary</th>\n",
              "      <th>Text</th>\n",
              "    </tr>\n",
              "  </thead>\n",
              "  <tbody>\n",
              "    <tr>\n",
              "      <th>0</th>\n",
              "      <td>2.0</td>\n",
              "      <td>Great CD</td>\n",
              "      <td>My lovely Pat has one of the GREAT voices of h...</td>\n",
              "    </tr>\n",
              "    <tr>\n",
              "      <th>1</th>\n",
              "      <td>2.0</td>\n",
              "      <td>One of the best game music soundtracks - for a...</td>\n",
              "      <td>Despite the fact that I have only played a sma...</td>\n",
              "    </tr>\n",
              "    <tr>\n",
              "      <th>2</th>\n",
              "      <td>1.0</td>\n",
              "      <td>Batteries died within a year ...</td>\n",
              "      <td>I bought this charger in Jul 2003 and it worke...</td>\n",
              "    </tr>\n",
              "    <tr>\n",
              "      <th>3</th>\n",
              "      <td>2.0</td>\n",
              "      <td>works fine, but Maha Energy is better</td>\n",
              "      <td>Check out Maha Energy's website. Their Powerex...</td>\n",
              "    </tr>\n",
              "    <tr>\n",
              "      <th>4</th>\n",
              "      <td>2.0</td>\n",
              "      <td>Great for the non-audiophile</td>\n",
              "      <td>Reviewed quite a bit of the combo players and ...</td>\n",
              "    </tr>\n",
              "  </tbody>\n",
              "</table>\n",
              "</div>"
            ],
            "text/plain": [
              "   Score  ...                                               Text\n",
              "0    2.0  ...  My lovely Pat has one of the GREAT voices of h...\n",
              "1    2.0  ...  Despite the fact that I have only played a sma...\n",
              "2    1.0  ...  I bought this charger in Jul 2003 and it worke...\n",
              "3    2.0  ...  Check out Maha Energy's website. Their Powerex...\n",
              "4    2.0  ...  Reviewed quite a bit of the combo players and ...\n",
              "\n",
              "[5 rows x 3 columns]"
            ]
          },
          "metadata": {},
          "execution_count": 32
        }
      ]
    },
    {
      "cell_type": "code",
      "metadata": {
        "colab": {
          "base_uri": "https://localhost:8080/",
          "height": 202
        },
        "id": "ictGNN0mMswZ",
        "outputId": "10cebe62-bdb4-4907-c7f8-5eb0f9661f4c"
      },
      "source": [
        "# Step 1: remove puntuation\n",
        "\n",
        "def remove_puntuation(text):\n",
        "    return (\"\".join([ch for ch in text if ch not in string.punctuation]))\n",
        "\n",
        "data[\"puntuation_removed\"] = data[\"Text\"].apply(lambda x: remove_puntuation(x))\n",
        "data[\"puntuation_removed2\"] = data[\"Summary\"].apply(lambda x: remove_puntuation(x))\n",
        "data.head()"
      ],
      "id": "ictGNN0mMswZ",
      "execution_count": 33,
      "outputs": [
        {
          "output_type": "execute_result",
          "data": {
            "text/html": [
              "<div>\n",
              "<style scoped>\n",
              "    .dataframe tbody tr th:only-of-type {\n",
              "        vertical-align: middle;\n",
              "    }\n",
              "\n",
              "    .dataframe tbody tr th {\n",
              "        vertical-align: top;\n",
              "    }\n",
              "\n",
              "    .dataframe thead th {\n",
              "        text-align: right;\n",
              "    }\n",
              "</style>\n",
              "<table border=\"1\" class=\"dataframe\">\n",
              "  <thead>\n",
              "    <tr style=\"text-align: right;\">\n",
              "      <th></th>\n",
              "      <th>Score</th>\n",
              "      <th>Summary</th>\n",
              "      <th>Text</th>\n",
              "      <th>puntuation_removed</th>\n",
              "      <th>puntuation_removed2</th>\n",
              "    </tr>\n",
              "  </thead>\n",
              "  <tbody>\n",
              "    <tr>\n",
              "      <th>0</th>\n",
              "      <td>2.0</td>\n",
              "      <td>Great CD</td>\n",
              "      <td>My lovely Pat has one of the GREAT voices of h...</td>\n",
              "      <td>My lovely Pat has one of the GREAT voices of h...</td>\n",
              "      <td>Great CD</td>\n",
              "    </tr>\n",
              "    <tr>\n",
              "      <th>1</th>\n",
              "      <td>2.0</td>\n",
              "      <td>One of the best game music soundtracks - for a...</td>\n",
              "      <td>Despite the fact that I have only played a sma...</td>\n",
              "      <td>Despite the fact that I have only played a sma...</td>\n",
              "      <td>One of the best game music soundtracks  for a ...</td>\n",
              "    </tr>\n",
              "    <tr>\n",
              "      <th>2</th>\n",
              "      <td>1.0</td>\n",
              "      <td>Batteries died within a year ...</td>\n",
              "      <td>I bought this charger in Jul 2003 and it worke...</td>\n",
              "      <td>I bought this charger in Jul 2003 and it worke...</td>\n",
              "      <td>Batteries died within a year</td>\n",
              "    </tr>\n",
              "    <tr>\n",
              "      <th>3</th>\n",
              "      <td>2.0</td>\n",
              "      <td>works fine, but Maha Energy is better</td>\n",
              "      <td>Check out Maha Energy's website. Their Powerex...</td>\n",
              "      <td>Check out Maha Energys website Their Powerex M...</td>\n",
              "      <td>works fine but Maha Energy is better</td>\n",
              "    </tr>\n",
              "    <tr>\n",
              "      <th>4</th>\n",
              "      <td>2.0</td>\n",
              "      <td>Great for the non-audiophile</td>\n",
              "      <td>Reviewed quite a bit of the combo players and ...</td>\n",
              "      <td>Reviewed quite a bit of the combo players and ...</td>\n",
              "      <td>Great for the nonaudiophile</td>\n",
              "    </tr>\n",
              "  </tbody>\n",
              "</table>\n",
              "</div>"
            ],
            "text/plain": [
              "   Score  ...                                puntuation_removed2\n",
              "0    2.0  ...                                           Great CD\n",
              "1    2.0  ...  One of the best game music soundtracks  for a ...\n",
              "2    1.0  ...                      Batteries died within a year \n",
              "3    2.0  ...               works fine but Maha Energy is better\n",
              "4    2.0  ...                        Great for the nonaudiophile\n",
              "\n",
              "[5 rows x 5 columns]"
            ]
          },
          "metadata": {},
          "execution_count": 33
        }
      ]
    },
    {
      "cell_type": "code",
      "metadata": {
        "colab": {
          "base_uri": "https://localhost:8080/",
          "height": 285
        },
        "id": "-WcgDKUsM806",
        "outputId": "c9800375-d688-4f23-e75c-0de5023f74e2"
      },
      "source": [
        "# Step 2: convert all text to lower and tokenize\n",
        "\n",
        "def text_lower_tokenized(text):\n",
        "    txt = word_tokenize(text)\n",
        "    txt =[w.lower() for w in txt]\n",
        "\n",
        "#     txt = str.split(txt)\n",
        "    return txt\n",
        "\n",
        "data[\"tokenized_lower\"] = data[\"puntuation_removed\"].apply(lambda x: text_lower_tokenized(x))\n",
        "data[\"tokenized_lower2\"] = data[\"puntuation_removed2\"].apply(lambda x: text_lower_tokenized(x))\n",
        "data.head()"
      ],
      "id": "-WcgDKUsM806",
      "execution_count": 34,
      "outputs": [
        {
          "output_type": "execute_result",
          "data": {
            "text/html": [
              "<div>\n",
              "<style scoped>\n",
              "    .dataframe tbody tr th:only-of-type {\n",
              "        vertical-align: middle;\n",
              "    }\n",
              "\n",
              "    .dataframe tbody tr th {\n",
              "        vertical-align: top;\n",
              "    }\n",
              "\n",
              "    .dataframe thead th {\n",
              "        text-align: right;\n",
              "    }\n",
              "</style>\n",
              "<table border=\"1\" class=\"dataframe\">\n",
              "  <thead>\n",
              "    <tr style=\"text-align: right;\">\n",
              "      <th></th>\n",
              "      <th>Score</th>\n",
              "      <th>Summary</th>\n",
              "      <th>Text</th>\n",
              "      <th>puntuation_removed</th>\n",
              "      <th>puntuation_removed2</th>\n",
              "      <th>tokenized_lower</th>\n",
              "      <th>tokenized_lower2</th>\n",
              "    </tr>\n",
              "  </thead>\n",
              "  <tbody>\n",
              "    <tr>\n",
              "      <th>0</th>\n",
              "      <td>2.0</td>\n",
              "      <td>Great CD</td>\n",
              "      <td>My lovely Pat has one of the GREAT voices of h...</td>\n",
              "      <td>My lovely Pat has one of the GREAT voices of h...</td>\n",
              "      <td>Great CD</td>\n",
              "      <td>[my, lovely, pat, has, one, of, the, great, vo...</td>\n",
              "      <td>[great, cd]</td>\n",
              "    </tr>\n",
              "    <tr>\n",
              "      <th>1</th>\n",
              "      <td>2.0</td>\n",
              "      <td>One of the best game music soundtracks - for a...</td>\n",
              "      <td>Despite the fact that I have only played a sma...</td>\n",
              "      <td>Despite the fact that I have only played a sma...</td>\n",
              "      <td>One of the best game music soundtracks  for a ...</td>\n",
              "      <td>[despite, the, fact, that, i, have, only, play...</td>\n",
              "      <td>[one, of, the, best, game, music, soundtracks,...</td>\n",
              "    </tr>\n",
              "    <tr>\n",
              "      <th>2</th>\n",
              "      <td>1.0</td>\n",
              "      <td>Batteries died within a year ...</td>\n",
              "      <td>I bought this charger in Jul 2003 and it worke...</td>\n",
              "      <td>I bought this charger in Jul 2003 and it worke...</td>\n",
              "      <td>Batteries died within a year</td>\n",
              "      <td>[i, bought, this, charger, in, jul, 2003, and,...</td>\n",
              "      <td>[batteries, died, within, a, year]</td>\n",
              "    </tr>\n",
              "    <tr>\n",
              "      <th>3</th>\n",
              "      <td>2.0</td>\n",
              "      <td>works fine, but Maha Energy is better</td>\n",
              "      <td>Check out Maha Energy's website. Their Powerex...</td>\n",
              "      <td>Check out Maha Energys website Their Powerex M...</td>\n",
              "      <td>works fine but Maha Energy is better</td>\n",
              "      <td>[check, out, maha, energys, website, their, po...</td>\n",
              "      <td>[works, fine, but, maha, energy, is, better]</td>\n",
              "    </tr>\n",
              "    <tr>\n",
              "      <th>4</th>\n",
              "      <td>2.0</td>\n",
              "      <td>Great for the non-audiophile</td>\n",
              "      <td>Reviewed quite a bit of the combo players and ...</td>\n",
              "      <td>Reviewed quite a bit of the combo players and ...</td>\n",
              "      <td>Great for the nonaudiophile</td>\n",
              "      <td>[reviewed, quite, a, bit, of, the, combo, play...</td>\n",
              "      <td>[great, for, the, nonaudiophile]</td>\n",
              "    </tr>\n",
              "  </tbody>\n",
              "</table>\n",
              "</div>"
            ],
            "text/plain": [
              "   Score  ...                                   tokenized_lower2\n",
              "0    2.0  ...                                        [great, cd]\n",
              "1    2.0  ...  [one, of, the, best, game, music, soundtracks,...\n",
              "2    1.0  ...                 [batteries, died, within, a, year]\n",
              "3    2.0  ...       [works, fine, but, maha, energy, is, better]\n",
              "4    2.0  ...                   [great, for, the, nonaudiophile]\n",
              "\n",
              "[5 rows x 7 columns]"
            ]
          },
          "metadata": {},
          "execution_count": 34
        }
      ]
    },
    {
      "cell_type": "code",
      "metadata": {
        "colab": {
          "base_uri": "https://localhost:8080/",
          "height": 368
        },
        "id": "Cxsm1-kWNLsu",
        "outputId": "7dc6f23d-b866-494d-bc1d-bc9f86cc1552"
      },
      "source": [
        "# Step 3: convert all text to lower and tokenize\n",
        "# Remove tokens of length less than 3\n",
        "\n",
        "def remove_small_words(text):\n",
        "    return [x for x in text if len(x) > 3 ]\n",
        "\n",
        "data[\"large_tokens\"] = data[\"tokenized_lower\"].apply(lambda x: remove_small_words(x))\n",
        "data[\"large_tokens2\"] = data[\"tokenized_lower2\"].apply(lambda x: remove_small_words(x))\n",
        "data.head()"
      ],
      "id": "Cxsm1-kWNLsu",
      "execution_count": 35,
      "outputs": [
        {
          "output_type": "execute_result",
          "data": {
            "text/html": [
              "<div>\n",
              "<style scoped>\n",
              "    .dataframe tbody tr th:only-of-type {\n",
              "        vertical-align: middle;\n",
              "    }\n",
              "\n",
              "    .dataframe tbody tr th {\n",
              "        vertical-align: top;\n",
              "    }\n",
              "\n",
              "    .dataframe thead th {\n",
              "        text-align: right;\n",
              "    }\n",
              "</style>\n",
              "<table border=\"1\" class=\"dataframe\">\n",
              "  <thead>\n",
              "    <tr style=\"text-align: right;\">\n",
              "      <th></th>\n",
              "      <th>Score</th>\n",
              "      <th>Summary</th>\n",
              "      <th>Text</th>\n",
              "      <th>puntuation_removed</th>\n",
              "      <th>puntuation_removed2</th>\n",
              "      <th>tokenized_lower</th>\n",
              "      <th>tokenized_lower2</th>\n",
              "      <th>large_tokens</th>\n",
              "      <th>large_tokens2</th>\n",
              "    </tr>\n",
              "  </thead>\n",
              "  <tbody>\n",
              "    <tr>\n",
              "      <th>0</th>\n",
              "      <td>2.0</td>\n",
              "      <td>Great CD</td>\n",
              "      <td>My lovely Pat has one of the GREAT voices of h...</td>\n",
              "      <td>My lovely Pat has one of the GREAT voices of h...</td>\n",
              "      <td>Great CD</td>\n",
              "      <td>[my, lovely, pat, has, one, of, the, great, vo...</td>\n",
              "      <td>[great, cd]</td>\n",
              "      <td>[lovely, great, voices, generation, have, list...</td>\n",
              "      <td>[great]</td>\n",
              "    </tr>\n",
              "    <tr>\n",
              "      <th>1</th>\n",
              "      <td>2.0</td>\n",
              "      <td>One of the best game music soundtracks - for a...</td>\n",
              "      <td>Despite the fact that I have only played a sma...</td>\n",
              "      <td>Despite the fact that I have only played a sma...</td>\n",
              "      <td>One of the best game music soundtracks  for a ...</td>\n",
              "      <td>[despite, the, fact, that, i, have, only, play...</td>\n",
              "      <td>[one, of, the, best, game, music, soundtracks,...</td>\n",
              "      <td>[despite, fact, that, have, only, played, smal...</td>\n",
              "      <td>[best, game, music, soundtracks, game, didnt, ...</td>\n",
              "    </tr>\n",
              "    <tr>\n",
              "      <th>2</th>\n",
              "      <td>1.0</td>\n",
              "      <td>Batteries died within a year ...</td>\n",
              "      <td>I bought this charger in Jul 2003 and it worke...</td>\n",
              "      <td>I bought this charger in Jul 2003 and it worke...</td>\n",
              "      <td>Batteries died within a year</td>\n",
              "      <td>[i, bought, this, charger, in, jul, 2003, and,...</td>\n",
              "      <td>[batteries, died, within, a, year]</td>\n",
              "      <td>[bought, this, charger, 2003, worked, while, d...</td>\n",
              "      <td>[batteries, died, within, year]</td>\n",
              "    </tr>\n",
              "    <tr>\n",
              "      <th>3</th>\n",
              "      <td>2.0</td>\n",
              "      <td>works fine, but Maha Energy is better</td>\n",
              "      <td>Check out Maha Energy's website. Their Powerex...</td>\n",
              "      <td>Check out Maha Energys website Their Powerex M...</td>\n",
              "      <td>works fine but Maha Energy is better</td>\n",
              "      <td>[check, out, maha, energys, website, their, po...</td>\n",
              "      <td>[works, fine, but, maha, energy, is, better]</td>\n",
              "      <td>[check, maha, energys, website, their, powerex...</td>\n",
              "      <td>[works, fine, maha, energy, better]</td>\n",
              "    </tr>\n",
              "    <tr>\n",
              "      <th>4</th>\n",
              "      <td>2.0</td>\n",
              "      <td>Great for the non-audiophile</td>\n",
              "      <td>Reviewed quite a bit of the combo players and ...</td>\n",
              "      <td>Reviewed quite a bit of the combo players and ...</td>\n",
              "      <td>Great for the nonaudiophile</td>\n",
              "      <td>[reviewed, quite, a, bit, of, the, combo, play...</td>\n",
              "      <td>[great, for, the, nonaudiophile]</td>\n",
              "      <td>[reviewed, quite, combo, players, hesitant, un...</td>\n",
              "      <td>[great, nonaudiophile]</td>\n",
              "    </tr>\n",
              "  </tbody>\n",
              "</table>\n",
              "</div>"
            ],
            "text/plain": [
              "   Score  ...                                      large_tokens2\n",
              "0    2.0  ...                                            [great]\n",
              "1    2.0  ...  [best, game, music, soundtracks, game, didnt, ...\n",
              "2    1.0  ...                    [batteries, died, within, year]\n",
              "3    2.0  ...                [works, fine, maha, energy, better]\n",
              "4    2.0  ...                             [great, nonaudiophile]\n",
              "\n",
              "[5 rows x 9 columns]"
            ]
          },
          "metadata": {},
          "execution_count": 35
        }
      ]
    },
    {
      "cell_type": "code",
      "metadata": {
        "colab": {
          "base_uri": "https://localhost:8080/",
          "height": 518
        },
        "id": "PWV-0ZW-NTW8",
        "outputId": "a4e5b304-badc-4502-cfb2-e216aa2362c5"
      },
      "source": [
        "# Step 4: Remove Stop / uninteresting words\n",
        "# nltk stopwords corpus or userdefined\n",
        "\n",
        "user_defined = [\"subject\"]\n",
        "\n",
        "def remove_userdefined_words(text):\n",
        "    return [w for w in text if w not in user_defined]\n",
        "\n",
        "def remove_stopwords(text):\n",
        "    return [w for w in text if w not in stopwords]\n",
        "\n",
        "data[\"without_stopwords\"] = data[\"large_tokens\"].apply(lambda x: remove_stopwords(x))\n",
        "data[\"without_stopwords\"] = data[\"without_stopwords\"].apply(lambda x: remove_userdefined_words(x))\n",
        "\n",
        "data[\"without_stopwords2\"] = data[\"large_tokens2\"].apply(lambda x: remove_stopwords(x))\n",
        "data[\"without_stopwords2\"] = data[\"without_stopwords2\"].apply(lambda x: remove_userdefined_words(x))\n",
        "data.head()"
      ],
      "id": "PWV-0ZW-NTW8",
      "execution_count": 36,
      "outputs": [
        {
          "output_type": "execute_result",
          "data": {
            "text/html": [
              "<div>\n",
              "<style scoped>\n",
              "    .dataframe tbody tr th:only-of-type {\n",
              "        vertical-align: middle;\n",
              "    }\n",
              "\n",
              "    .dataframe tbody tr th {\n",
              "        vertical-align: top;\n",
              "    }\n",
              "\n",
              "    .dataframe thead th {\n",
              "        text-align: right;\n",
              "    }\n",
              "</style>\n",
              "<table border=\"1\" class=\"dataframe\">\n",
              "  <thead>\n",
              "    <tr style=\"text-align: right;\">\n",
              "      <th></th>\n",
              "      <th>Score</th>\n",
              "      <th>Summary</th>\n",
              "      <th>Text</th>\n",
              "      <th>puntuation_removed</th>\n",
              "      <th>puntuation_removed2</th>\n",
              "      <th>tokenized_lower</th>\n",
              "      <th>tokenized_lower2</th>\n",
              "      <th>large_tokens</th>\n",
              "      <th>large_tokens2</th>\n",
              "      <th>without_stopwords</th>\n",
              "      <th>without_stopwords2</th>\n",
              "    </tr>\n",
              "  </thead>\n",
              "  <tbody>\n",
              "    <tr>\n",
              "      <th>0</th>\n",
              "      <td>2.0</td>\n",
              "      <td>Great CD</td>\n",
              "      <td>My lovely Pat has one of the GREAT voices of h...</td>\n",
              "      <td>My lovely Pat has one of the GREAT voices of h...</td>\n",
              "      <td>Great CD</td>\n",
              "      <td>[my, lovely, pat, has, one, of, the, great, vo...</td>\n",
              "      <td>[great, cd]</td>\n",
              "      <td>[lovely, great, voices, generation, have, list...</td>\n",
              "      <td>[great]</td>\n",
              "      <td>[lovely, great, voices, generation, listened, ...</td>\n",
              "      <td>[great]</td>\n",
              "    </tr>\n",
              "    <tr>\n",
              "      <th>1</th>\n",
              "      <td>2.0</td>\n",
              "      <td>One of the best game music soundtracks - for a...</td>\n",
              "      <td>Despite the fact that I have only played a sma...</td>\n",
              "      <td>Despite the fact that I have only played a sma...</td>\n",
              "      <td>One of the best game music soundtracks  for a ...</td>\n",
              "      <td>[despite, the, fact, that, i, have, only, play...</td>\n",
              "      <td>[one, of, the, best, game, music, soundtracks,...</td>\n",
              "      <td>[despite, fact, that, have, only, played, smal...</td>\n",
              "      <td>[best, game, music, soundtracks, game, didnt, ...</td>\n",
              "      <td>[despite, fact, played, small, portion, game, ...</td>\n",
              "      <td>[best, game, music, soundtracks, game, didnt, ...</td>\n",
              "    </tr>\n",
              "    <tr>\n",
              "      <th>2</th>\n",
              "      <td>1.0</td>\n",
              "      <td>Batteries died within a year ...</td>\n",
              "      <td>I bought this charger in Jul 2003 and it worke...</td>\n",
              "      <td>I bought this charger in Jul 2003 and it worke...</td>\n",
              "      <td>Batteries died within a year</td>\n",
              "      <td>[i, bought, this, charger, in, jul, 2003, and,...</td>\n",
              "      <td>[batteries, died, within, a, year]</td>\n",
              "      <td>[bought, this, charger, 2003, worked, while, d...</td>\n",
              "      <td>[batteries, died, within, year]</td>\n",
              "      <td>[bought, charger, 2003, worked, design, nice, ...</td>\n",
              "      <td>[batteries, died, within, year]</td>\n",
              "    </tr>\n",
              "    <tr>\n",
              "      <th>3</th>\n",
              "      <td>2.0</td>\n",
              "      <td>works fine, but Maha Energy is better</td>\n",
              "      <td>Check out Maha Energy's website. Their Powerex...</td>\n",
              "      <td>Check out Maha Energys website Their Powerex M...</td>\n",
              "      <td>works fine but Maha Energy is better</td>\n",
              "      <td>[check, out, maha, energys, website, their, po...</td>\n",
              "      <td>[works, fine, but, maha, energy, is, better]</td>\n",
              "      <td>[check, maha, energys, website, their, powerex...</td>\n",
              "      <td>[works, fine, maha, energy, better]</td>\n",
              "      <td>[check, maha, energys, website, powerex, mhc20...</td>\n",
              "      <td>[works, fine, maha, energy, better]</td>\n",
              "    </tr>\n",
              "    <tr>\n",
              "      <th>4</th>\n",
              "      <td>2.0</td>\n",
              "      <td>Great for the non-audiophile</td>\n",
              "      <td>Reviewed quite a bit of the combo players and ...</td>\n",
              "      <td>Reviewed quite a bit of the combo players and ...</td>\n",
              "      <td>Great for the nonaudiophile</td>\n",
              "      <td>[reviewed, quite, a, bit, of, the, combo, play...</td>\n",
              "      <td>[great, for, the, nonaudiophile]</td>\n",
              "      <td>[reviewed, quite, combo, players, hesitant, un...</td>\n",
              "      <td>[great, nonaudiophile]</td>\n",
              "      <td>[reviewed, quite, combo, players, hesitant, un...</td>\n",
              "      <td>[great, nonaudiophile]</td>\n",
              "    </tr>\n",
              "  </tbody>\n",
              "</table>\n",
              "</div>"
            ],
            "text/plain": [
              "   Score  ...                                 without_stopwords2\n",
              "0    2.0  ...                                            [great]\n",
              "1    2.0  ...  [best, game, music, soundtracks, game, didnt, ...\n",
              "2    1.0  ...                    [batteries, died, within, year]\n",
              "3    2.0  ...                [works, fine, maha, energy, better]\n",
              "4    2.0  ...                             [great, nonaudiophile]\n",
              "\n",
              "[5 rows x 11 columns]"
            ]
          },
          "metadata": {},
          "execution_count": 36
        }
      ]
    },
    {
      "cell_type": "code",
      "metadata": {
        "colab": {
          "base_uri": "https://localhost:8080/",
          "height": 655
        },
        "id": "T362qI8HNakp",
        "outputId": "afc0ba72-0f27-404a-9b49-895f12b40797"
      },
      "source": [
        "#Step 5: Stemming\n",
        "\n",
        "def stemming(text):\n",
        "    ps = PorterStemmer()\n",
        "    return [ps.stem(word) for word in text]\n",
        "\n",
        "data[\"Stemmed\"] = data[\"without_stopwords\"].apply(lambda x: stemming(x))\n",
        "data[\"Stemmed2\"] = data[\"without_stopwords2\"].apply(lambda x: stemming(x))\n",
        "data.head()"
      ],
      "id": "T362qI8HNakp",
      "execution_count": 37,
      "outputs": [
        {
          "output_type": "execute_result",
          "data": {
            "text/html": [
              "<div>\n",
              "<style scoped>\n",
              "    .dataframe tbody tr th:only-of-type {\n",
              "        vertical-align: middle;\n",
              "    }\n",
              "\n",
              "    .dataframe tbody tr th {\n",
              "        vertical-align: top;\n",
              "    }\n",
              "\n",
              "    .dataframe thead th {\n",
              "        text-align: right;\n",
              "    }\n",
              "</style>\n",
              "<table border=\"1\" class=\"dataframe\">\n",
              "  <thead>\n",
              "    <tr style=\"text-align: right;\">\n",
              "      <th></th>\n",
              "      <th>Score</th>\n",
              "      <th>Summary</th>\n",
              "      <th>Text</th>\n",
              "      <th>puntuation_removed</th>\n",
              "      <th>puntuation_removed2</th>\n",
              "      <th>tokenized_lower</th>\n",
              "      <th>tokenized_lower2</th>\n",
              "      <th>large_tokens</th>\n",
              "      <th>large_tokens2</th>\n",
              "      <th>without_stopwords</th>\n",
              "      <th>without_stopwords2</th>\n",
              "      <th>Stemmed</th>\n",
              "      <th>Stemmed2</th>\n",
              "    </tr>\n",
              "  </thead>\n",
              "  <tbody>\n",
              "    <tr>\n",
              "      <th>0</th>\n",
              "      <td>2.0</td>\n",
              "      <td>Great CD</td>\n",
              "      <td>My lovely Pat has one of the GREAT voices of h...</td>\n",
              "      <td>My lovely Pat has one of the GREAT voices of h...</td>\n",
              "      <td>Great CD</td>\n",
              "      <td>[my, lovely, pat, has, one, of, the, great, vo...</td>\n",
              "      <td>[great, cd]</td>\n",
              "      <td>[lovely, great, voices, generation, have, list...</td>\n",
              "      <td>[great]</td>\n",
              "      <td>[lovely, great, voices, generation, listened, ...</td>\n",
              "      <td>[great]</td>\n",
              "      <td>[love, great, voic, gener, listen, year, still...</td>\n",
              "      <td>[great]</td>\n",
              "    </tr>\n",
              "    <tr>\n",
              "      <th>1</th>\n",
              "      <td>2.0</td>\n",
              "      <td>One of the best game music soundtracks - for a...</td>\n",
              "      <td>Despite the fact that I have only played a sma...</td>\n",
              "      <td>Despite the fact that I have only played a sma...</td>\n",
              "      <td>One of the best game music soundtracks  for a ...</td>\n",
              "      <td>[despite, the, fact, that, i, have, only, play...</td>\n",
              "      <td>[one, of, the, best, game, music, soundtracks,...</td>\n",
              "      <td>[despite, fact, that, have, only, played, smal...</td>\n",
              "      <td>[best, game, music, soundtracks, game, didnt, ...</td>\n",
              "      <td>[despite, fact, played, small, portion, game, ...</td>\n",
              "      <td>[best, game, music, soundtracks, game, didnt, ...</td>\n",
              "      <td>[despit, fact, play, small, portion, game, mus...</td>\n",
              "      <td>[best, game, music, soundtrack, game, didnt, r...</td>\n",
              "    </tr>\n",
              "    <tr>\n",
              "      <th>2</th>\n",
              "      <td>1.0</td>\n",
              "      <td>Batteries died within a year ...</td>\n",
              "      <td>I bought this charger in Jul 2003 and it worke...</td>\n",
              "      <td>I bought this charger in Jul 2003 and it worke...</td>\n",
              "      <td>Batteries died within a year</td>\n",
              "      <td>[i, bought, this, charger, in, jul, 2003, and,...</td>\n",
              "      <td>[batteries, died, within, a, year]</td>\n",
              "      <td>[bought, this, charger, 2003, worked, while, d...</td>\n",
              "      <td>[batteries, died, within, year]</td>\n",
              "      <td>[bought, charger, 2003, worked, design, nice, ...</td>\n",
              "      <td>[batteries, died, within, year]</td>\n",
              "      <td>[bought, charger, 2003, work, design, nice, co...</td>\n",
              "      <td>[batteri, die, within, year]</td>\n",
              "    </tr>\n",
              "    <tr>\n",
              "      <th>3</th>\n",
              "      <td>2.0</td>\n",
              "      <td>works fine, but Maha Energy is better</td>\n",
              "      <td>Check out Maha Energy's website. Their Powerex...</td>\n",
              "      <td>Check out Maha Energys website Their Powerex M...</td>\n",
              "      <td>works fine but Maha Energy is better</td>\n",
              "      <td>[check, out, maha, energys, website, their, po...</td>\n",
              "      <td>[works, fine, but, maha, energy, is, better]</td>\n",
              "      <td>[check, maha, energys, website, their, powerex...</td>\n",
              "      <td>[works, fine, maha, energy, better]</td>\n",
              "      <td>[check, maha, energys, website, powerex, mhc20...</td>\n",
              "      <td>[works, fine, maha, energy, better]</td>\n",
              "      <td>[check, maha, energi, websit, powerex, mhc204f...</td>\n",
              "      <td>[work, fine, maha, energi, better]</td>\n",
              "    </tr>\n",
              "    <tr>\n",
              "      <th>4</th>\n",
              "      <td>2.0</td>\n",
              "      <td>Great for the non-audiophile</td>\n",
              "      <td>Reviewed quite a bit of the combo players and ...</td>\n",
              "      <td>Reviewed quite a bit of the combo players and ...</td>\n",
              "      <td>Great for the nonaudiophile</td>\n",
              "      <td>[reviewed, quite, a, bit, of, the, combo, play...</td>\n",
              "      <td>[great, for, the, nonaudiophile]</td>\n",
              "      <td>[reviewed, quite, combo, players, hesitant, un...</td>\n",
              "      <td>[great, nonaudiophile]</td>\n",
              "      <td>[reviewed, quite, combo, players, hesitant, un...</td>\n",
              "      <td>[great, nonaudiophile]</td>\n",
              "      <td>[review, quit, combo, player, hesit, unfavor, ...</td>\n",
              "      <td>[great, nonaudiophil]</td>\n",
              "    </tr>\n",
              "  </tbody>\n",
              "</table>\n",
              "</div>"
            ],
            "text/plain": [
              "   Score  ...                                           Stemmed2\n",
              "0    2.0  ...                                            [great]\n",
              "1    2.0  ...  [best, game, music, soundtrack, game, didnt, r...\n",
              "2    1.0  ...                       [batteri, die, within, year]\n",
              "3    2.0  ...                 [work, fine, maha, energi, better]\n",
              "4    2.0  ...                              [great, nonaudiophil]\n",
              "\n",
              "[5 rows x 13 columns]"
            ]
          },
          "metadata": {},
          "execution_count": 37
        }
      ]
    },
    {
      "cell_type": "code",
      "metadata": {
        "colab": {
          "base_uri": "https://localhost:8080/"
        },
        "id": "M0RJM_wAOAqX",
        "outputId": "1de8eeb7-5de5-4124-ee4c-71484d9462a5"
      },
      "source": [
        "#step 6: Lemmatized\n",
        "def Lemmatize(text):\n",
        "    word_net = WordNetLemmatizer()\n",
        "    return [word_net.lemmatize(word) for word in text]\n",
        "\n",
        "data[\"Lemmatized\"] = data[\"without_stopwords\"].apply(lambda x: Lemmatize(x))\n",
        "data[\"Lemmatized2\"] = data[\"without_stopwords2\"].apply(lambda x: Lemmatize(x))\n",
        "data.head()\n",
        "\n",
        "maxLen = len(max(data[\"Lemmatized\"], key=len))\n",
        "print(f\"Max length of the sentence in corpus : {maxLen}\")\n",
        "\n",
        "maxLen = len(max(data[\"Lemmatized2\"], key=len))\n",
        "print(f\"Max length of the sentence in corpus2 : {maxLen}\")"
      ],
      "id": "M0RJM_wAOAqX",
      "execution_count": 38,
      "outputs": [
        {
          "output_type": "stream",
          "name": "stdout",
          "text": [
            "Max length of the sentence in corpus : 87\n",
            "Max length of the sentence in corpus2 : 10\n"
          ]
        }
      ]
    },
    {
      "cell_type": "code",
      "metadata": {
        "colab": {
          "base_uri": "https://localhost:8080/",
          "height": 672
        },
        "id": "azAy_M6AOMF7",
        "outputId": "de1647db-4519-4cf4-fd9f-1f8522c9b176"
      },
      "source": [
        "# get to sentence\n",
        "def get_sentence(tokens):\n",
        "    txt =' '.join([word for word in tokens])\n",
        "    return txt\n",
        "data[\"X\"] = data[\"Lemmatized\"].apply(lambda x: get_sentence(x))\n",
        "data[\"X2\"] = data[\"Lemmatized2\"].apply(lambda x: get_sentence(x))\n",
        "data.head()"
      ],
      "id": "azAy_M6AOMF7",
      "execution_count": 39,
      "outputs": [
        {
          "output_type": "execute_result",
          "data": {
            "text/html": [
              "<div>\n",
              "<style scoped>\n",
              "    .dataframe tbody tr th:only-of-type {\n",
              "        vertical-align: middle;\n",
              "    }\n",
              "\n",
              "    .dataframe tbody tr th {\n",
              "        vertical-align: top;\n",
              "    }\n",
              "\n",
              "    .dataframe thead th {\n",
              "        text-align: right;\n",
              "    }\n",
              "</style>\n",
              "<table border=\"1\" class=\"dataframe\">\n",
              "  <thead>\n",
              "    <tr style=\"text-align: right;\">\n",
              "      <th></th>\n",
              "      <th>Score</th>\n",
              "      <th>Summary</th>\n",
              "      <th>Text</th>\n",
              "      <th>puntuation_removed</th>\n",
              "      <th>puntuation_removed2</th>\n",
              "      <th>tokenized_lower</th>\n",
              "      <th>tokenized_lower2</th>\n",
              "      <th>large_tokens</th>\n",
              "      <th>large_tokens2</th>\n",
              "      <th>without_stopwords</th>\n",
              "      <th>without_stopwords2</th>\n",
              "      <th>Stemmed</th>\n",
              "      <th>Stemmed2</th>\n",
              "      <th>Lemmatized</th>\n",
              "      <th>Lemmatized2</th>\n",
              "      <th>X</th>\n",
              "      <th>X2</th>\n",
              "    </tr>\n",
              "  </thead>\n",
              "  <tbody>\n",
              "    <tr>\n",
              "      <th>0</th>\n",
              "      <td>2.0</td>\n",
              "      <td>Great CD</td>\n",
              "      <td>My lovely Pat has one of the GREAT voices of h...</td>\n",
              "      <td>My lovely Pat has one of the GREAT voices of h...</td>\n",
              "      <td>Great CD</td>\n",
              "      <td>[my, lovely, pat, has, one, of, the, great, vo...</td>\n",
              "      <td>[great, cd]</td>\n",
              "      <td>[lovely, great, voices, generation, have, list...</td>\n",
              "      <td>[great]</td>\n",
              "      <td>[lovely, great, voices, generation, listened, ...</td>\n",
              "      <td>[great]</td>\n",
              "      <td>[love, great, voic, gener, listen, year, still...</td>\n",
              "      <td>[great]</td>\n",
              "      <td>[lovely, great, voice, generation, listened, y...</td>\n",
              "      <td>[great]</td>\n",
              "      <td>lovely great voice generation listened year st...</td>\n",
              "      <td>great</td>\n",
              "    </tr>\n",
              "    <tr>\n",
              "      <th>1</th>\n",
              "      <td>2.0</td>\n",
              "      <td>One of the best game music soundtracks - for a...</td>\n",
              "      <td>Despite the fact that I have only played a sma...</td>\n",
              "      <td>Despite the fact that I have only played a sma...</td>\n",
              "      <td>One of the best game music soundtracks  for a ...</td>\n",
              "      <td>[despite, the, fact, that, i, have, only, play...</td>\n",
              "      <td>[one, of, the, best, game, music, soundtracks,...</td>\n",
              "      <td>[despite, fact, that, have, only, played, smal...</td>\n",
              "      <td>[best, game, music, soundtracks, game, didnt, ...</td>\n",
              "      <td>[despite, fact, played, small, portion, game, ...</td>\n",
              "      <td>[best, game, music, soundtracks, game, didnt, ...</td>\n",
              "      <td>[despit, fact, play, small, portion, game, mus...</td>\n",
              "      <td>[best, game, music, soundtrack, game, didnt, r...</td>\n",
              "      <td>[despite, fact, played, small, portion, game, ...</td>\n",
              "      <td>[best, game, music, soundtrack, game, didnt, r...</td>\n",
              "      <td>despite fact played small portion game music h...</td>\n",
              "      <td>best game music soundtrack game didnt really play</td>\n",
              "    </tr>\n",
              "    <tr>\n",
              "      <th>2</th>\n",
              "      <td>1.0</td>\n",
              "      <td>Batteries died within a year ...</td>\n",
              "      <td>I bought this charger in Jul 2003 and it worke...</td>\n",
              "      <td>I bought this charger in Jul 2003 and it worke...</td>\n",
              "      <td>Batteries died within a year</td>\n",
              "      <td>[i, bought, this, charger, in, jul, 2003, and,...</td>\n",
              "      <td>[batteries, died, within, a, year]</td>\n",
              "      <td>[bought, this, charger, 2003, worked, while, d...</td>\n",
              "      <td>[batteries, died, within, year]</td>\n",
              "      <td>[bought, charger, 2003, worked, design, nice, ...</td>\n",
              "      <td>[batteries, died, within, year]</td>\n",
              "      <td>[bought, charger, 2003, work, design, nice, co...</td>\n",
              "      <td>[batteri, die, within, year]</td>\n",
              "      <td>[bought, charger, 2003, worked, design, nice, ...</td>\n",
              "      <td>[battery, died, within, year]</td>\n",
              "      <td>bought charger 2003 worked design nice conveni...</td>\n",
              "      <td>battery died within year</td>\n",
              "    </tr>\n",
              "    <tr>\n",
              "      <th>3</th>\n",
              "      <td>2.0</td>\n",
              "      <td>works fine, but Maha Energy is better</td>\n",
              "      <td>Check out Maha Energy's website. Their Powerex...</td>\n",
              "      <td>Check out Maha Energys website Their Powerex M...</td>\n",
              "      <td>works fine but Maha Energy is better</td>\n",
              "      <td>[check, out, maha, energys, website, their, po...</td>\n",
              "      <td>[works, fine, but, maha, energy, is, better]</td>\n",
              "      <td>[check, maha, energys, website, their, powerex...</td>\n",
              "      <td>[works, fine, maha, energy, better]</td>\n",
              "      <td>[check, maha, energys, website, powerex, mhc20...</td>\n",
              "      <td>[works, fine, maha, energy, better]</td>\n",
              "      <td>[check, maha, energi, websit, powerex, mhc204f...</td>\n",
              "      <td>[work, fine, maha, energi, better]</td>\n",
              "      <td>[check, maha, energy, website, powerex, mhc204...</td>\n",
              "      <td>[work, fine, maha, energy, better]</td>\n",
              "      <td>check maha energy website powerex mhc204f char...</td>\n",
              "      <td>work fine maha energy better</td>\n",
              "    </tr>\n",
              "    <tr>\n",
              "      <th>4</th>\n",
              "      <td>2.0</td>\n",
              "      <td>Great for the non-audiophile</td>\n",
              "      <td>Reviewed quite a bit of the combo players and ...</td>\n",
              "      <td>Reviewed quite a bit of the combo players and ...</td>\n",
              "      <td>Great for the nonaudiophile</td>\n",
              "      <td>[reviewed, quite, a, bit, of, the, combo, play...</td>\n",
              "      <td>[great, for, the, nonaudiophile]</td>\n",
              "      <td>[reviewed, quite, combo, players, hesitant, un...</td>\n",
              "      <td>[great, nonaudiophile]</td>\n",
              "      <td>[reviewed, quite, combo, players, hesitant, un...</td>\n",
              "      <td>[great, nonaudiophile]</td>\n",
              "      <td>[review, quit, combo, player, hesit, unfavor, ...</td>\n",
              "      <td>[great, nonaudiophil]</td>\n",
              "      <td>[reviewed, quite, combo, player, hesitant, unf...</td>\n",
              "      <td>[great, nonaudiophile]</td>\n",
              "      <td>reviewed quite combo player hesitant unfavorab...</td>\n",
              "      <td>great nonaudiophile</td>\n",
              "    </tr>\n",
              "  </tbody>\n",
              "</table>\n",
              "</div>"
            ],
            "text/plain": [
              "   Score  ...                                                 X2\n",
              "0    2.0  ...                                              great\n",
              "1    2.0  ...  best game music soundtrack game didnt really play\n",
              "2    1.0  ...                           battery died within year\n",
              "3    2.0  ...                       work fine maha energy better\n",
              "4    2.0  ...                                great nonaudiophile\n",
              "\n",
              "[5 rows x 17 columns]"
            ]
          },
          "metadata": {},
          "execution_count": 39
        }
      ]
    },
    {
      "cell_type": "markdown",
      "metadata": {
        "id": "cd1e1bf4"
      },
      "source": [
        "#  constructing x and y value for training and vectorizing two columns tfidf"
      ],
      "id": "cd1e1bf4"
    },
    {
      "cell_type": "code",
      "metadata": {
        "colab": {
          "base_uri": "https://localhost:8080/",
          "height": 414
        },
        "id": "IttvzTa6R02h",
        "outputId": "a9a562bf-a174-4238-ad7f-80433806844f"
      },
      "source": [
        "#x=data[['X','X2']]\n",
        "x = data.iloc[:, 15:17]\n",
        "#x = data['X']\n",
        "#x= pd.DataFrame(x)\n",
        "x"
      ],
      "id": "IttvzTa6R02h",
      "execution_count": 40,
      "outputs": [
        {
          "output_type": "execute_result",
          "data": {
            "text/html": [
              "<div>\n",
              "<style scoped>\n",
              "    .dataframe tbody tr th:only-of-type {\n",
              "        vertical-align: middle;\n",
              "    }\n",
              "\n",
              "    .dataframe tbody tr th {\n",
              "        vertical-align: top;\n",
              "    }\n",
              "\n",
              "    .dataframe thead th {\n",
              "        text-align: right;\n",
              "    }\n",
              "</style>\n",
              "<table border=\"1\" class=\"dataframe\">\n",
              "  <thead>\n",
              "    <tr style=\"text-align: right;\">\n",
              "      <th></th>\n",
              "      <th>X</th>\n",
              "      <th>X2</th>\n",
              "    </tr>\n",
              "  </thead>\n",
              "  <tbody>\n",
              "    <tr>\n",
              "      <th>0</th>\n",
              "      <td>lovely great voice generation listened year st...</td>\n",
              "      <td>great</td>\n",
              "    </tr>\n",
              "    <tr>\n",
              "      <th>1</th>\n",
              "      <td>despite fact played small portion game music h...</td>\n",
              "      <td>best game music soundtrack game didnt really play</td>\n",
              "    </tr>\n",
              "    <tr>\n",
              "      <th>2</th>\n",
              "      <td>bought charger 2003 worked design nice conveni...</td>\n",
              "      <td>battery died within year</td>\n",
              "    </tr>\n",
              "    <tr>\n",
              "      <th>3</th>\n",
              "      <td>check maha energy website powerex mhc204f char...</td>\n",
              "      <td>work fine maha energy better</td>\n",
              "    </tr>\n",
              "    <tr>\n",
              "      <th>4</th>\n",
              "      <td>reviewed quite combo player hesitant unfavorab...</td>\n",
              "      <td>great nonaudiophile</td>\n",
              "    </tr>\n",
              "    <tr>\n",
              "      <th>...</th>\n",
              "      <td>...</td>\n",
              "      <td>...</td>\n",
              "    </tr>\n",
              "    <tr>\n",
              "      <th>994</th>\n",
              "      <td>imagine action film minute long would time sub...</td>\n",
              "      <td>goodfun</td>\n",
              "    </tr>\n",
              "    <tr>\n",
              "      <th>995</th>\n",
              "      <td>waste timeglory time movie claim life world do...</td>\n",
              "      <td>borinmg dumb</td>\n",
              "    </tr>\n",
              "    <tr>\n",
              "      <th>996</th>\n",
              "      <td>best film ever made god monster work many leve...</td>\n",
              "      <td>best film year</td>\n",
              "    </tr>\n",
              "    <tr>\n",
              "      <th>997</th>\n",
              "      <td>god monster superb movie last day film directo...</td>\n",
              "      <td>movie mckellens performance</td>\n",
              "    </tr>\n",
              "    <tr>\n",
              "      <th>998</th>\n",
              "      <td>recent film anticipated good exceeded expectat...</td>\n",
              "      <td>best screenplay stability</td>\n",
              "    </tr>\n",
              "  </tbody>\n",
              "</table>\n",
              "<p>999 rows × 2 columns</p>\n",
              "</div>"
            ],
            "text/plain": [
              "                                                     X                                                 X2\n",
              "0    lovely great voice generation listened year st...                                              great\n",
              "1    despite fact played small portion game music h...  best game music soundtrack game didnt really play\n",
              "2    bought charger 2003 worked design nice conveni...                           battery died within year\n",
              "3    check maha energy website powerex mhc204f char...                       work fine maha energy better\n",
              "4    reviewed quite combo player hesitant unfavorab...                                great nonaudiophile\n",
              "..                                                 ...                                                ...\n",
              "994  imagine action film minute long would time sub...                                            goodfun\n",
              "995  waste timeglory time movie claim life world do...                                       borinmg dumb\n",
              "996  best film ever made god monster work many leve...                                     best film year\n",
              "997  god monster superb movie last day film directo...                        movie mckellens performance\n",
              "998  recent film anticipated good exceeded expectat...                          best screenplay stability\n",
              "\n",
              "[999 rows x 2 columns]"
            ]
          },
          "metadata": {},
          "execution_count": 40
        }
      ]
    },
    {
      "cell_type": "code",
      "metadata": {
        "colab": {
          "base_uri": "https://localhost:8080/"
        },
        "id": "kBaD880nSBXK",
        "outputId": "37abd151-152b-486e-d89f-a40a1fbc3ff8"
      },
      "source": [
        "y=data['Score']\n",
        "y"
      ],
      "id": "kBaD880nSBXK",
      "execution_count": 41,
      "outputs": [
        {
          "output_type": "execute_result",
          "data": {
            "text/plain": [
              "0      2.0\n",
              "1      2.0\n",
              "2      1.0\n",
              "3      2.0\n",
              "4      2.0\n",
              "      ... \n",
              "994    2.0\n",
              "995    1.0\n",
              "996    2.0\n",
              "997    2.0\n",
              "998    2.0\n",
              "Name: Score, Length: 999, dtype: float64"
            ]
          },
          "metadata": {},
          "execution_count": 41
        }
      ]
    },
    {
      "cell_type": "code",
      "metadata": {
        "colab": {
          "base_uri": "https://localhost:8080/"
        },
        "id": "sfTziU2bLQLJ",
        "outputId": "d8f1de3f-7148-4f8b-e1d8-ce82fe32c342"
      },
      "source": [
        "y.shape"
      ],
      "id": "sfTziU2bLQLJ",
      "execution_count": 25,
      "outputs": [
        {
          "output_type": "execute_result",
          "data": {
            "text/plain": [
              "(999,)"
            ]
          },
          "metadata": {},
          "execution_count": 25
        }
      ]
    },
    {
      "cell_type": "markdown",
      "metadata": {
        "id": "MzZxxt2qWcNz"
      },
      "source": [
        "# *Applying tf-idf vectorizer on two feature column from dataset*"
      ],
      "id": "MzZxxt2qWcNz"
    },
    {
      "cell_type": "code",
      "metadata": {
        "id": "P30iJVZb4UTx"
      },
      "source": [
        "tfidf = TfidfVectorizer()\n",
        "from sklearn.compose import make_column_transformer\n",
        "ct = make_column_transformer((tfidf, 'X'), (tfidf, 'X2'))\n",
        "x= ct.fit_transform(x)\n"
      ],
      "id": "P30iJVZb4UTx",
      "execution_count": 42,
      "outputs": []
    },
    {
      "cell_type": "code",
      "metadata": {
        "colab": {
          "base_uri": "https://localhost:8080/"
        },
        "id": "Y90R-woNLLkC",
        "outputId": "978b4f54-b499-48be-8a50-3662bf1b3b80"
      },
      "source": [
        "x.shape"
      ],
      "id": "Y90R-woNLLkC",
      "execution_count": 43,
      "outputs": [
        {
          "output_type": "execute_result",
          "data": {
            "text/plain": [
              "(999, 9851)"
            ]
          },
          "metadata": {},
          "execution_count": 43
        }
      ]
    },
    {
      "cell_type": "code",
      "metadata": {
        "colab": {
          "base_uri": "https://localhost:8080/",
          "height": 202
        },
        "id": "cNNKypgCK2Ob",
        "outputId": "71f977f2-a9c3-49ea-f662-a376886d2344"
      },
      "source": [
        "pd.DataFrame(x).head()"
      ],
      "id": "cNNKypgCK2Ob",
      "execution_count": 23,
      "outputs": [
        {
          "output_type": "execute_result",
          "data": {
            "text/html": [
              "<div>\n",
              "<style scoped>\n",
              "    .dataframe tbody tr th:only-of-type {\n",
              "        vertical-align: middle;\n",
              "    }\n",
              "\n",
              "    .dataframe tbody tr th {\n",
              "        vertical-align: top;\n",
              "    }\n",
              "\n",
              "    .dataframe thead th {\n",
              "        text-align: right;\n",
              "    }\n",
              "</style>\n",
              "<table border=\"1\" class=\"dataframe\">\n",
              "  <thead>\n",
              "    <tr style=\"text-align: right;\">\n",
              "      <th></th>\n",
              "      <th>0</th>\n",
              "    </tr>\n",
              "  </thead>\n",
              "  <tbody>\n",
              "    <tr>\n",
              "      <th>0</th>\n",
              "      <td>(0, 792)\\t0.08672882795692428\\n  (0, 795)\\t0...</td>\n",
              "    </tr>\n",
              "    <tr>\n",
              "      <th>1</th>\n",
              "      <td>(0, 226)\\t0.13464931992956186\\n  (0, 299)\\t0...</td>\n",
              "    </tr>\n",
              "    <tr>\n",
              "      <th>2</th>\n",
              "      <td>(0, 64)\\t0.2579207575769709\\n  (0, 314)\\t0.2...</td>\n",
              "    </tr>\n",
              "    <tr>\n",
              "      <th>3</th>\n",
              "      <td>(0, 74)\\t0.26552420221983286\\n  (0, 701)\\t0....</td>\n",
              "    </tr>\n",
              "    <tr>\n",
              "      <th>4</th>\n",
              "      <td>(0, 1024)\\t0.16368673408825973\\n  (0, 1413)\\...</td>\n",
              "    </tr>\n",
              "  </tbody>\n",
              "</table>\n",
              "</div>"
            ],
            "text/plain": [
              "                                                   0\n",
              "0    (0, 792)\\t0.08672882795692428\\n  (0, 795)\\t0...\n",
              "1    (0, 226)\\t0.13464931992956186\\n  (0, 299)\\t0...\n",
              "2    (0, 64)\\t0.2579207575769709\\n  (0, 314)\\t0.2...\n",
              "3    (0, 74)\\t0.26552420221983286\\n  (0, 701)\\t0....\n",
              "4    (0, 1024)\\t0.16368673408825973\\n  (0, 1413)\\..."
            ]
          },
          "metadata": {},
          "execution_count": 23
        }
      ]
    },
    {
      "cell_type": "markdown",
      "metadata": {
        "id": "U0UETSjvWSBN"
      },
      "source": [
        "# **Train test split 80:20**"
      ],
      "id": "U0UETSjvWSBN"
    },
    {
      "cell_type": "code",
      "metadata": {
        "colab": {
          "base_uri": "https://localhost:8080/"
        },
        "id": "aHzBZ9PTTb8V",
        "outputId": "1cf5c3a6-fe89-4248-f934-4f857efc4993"
      },
      "source": [
        "X_train, X_test, y_train, y_test = train_test_split(x, y, test_size = 0.2, random_state = 99)\n",
        "print(f\"Training split input: {X_train.shape}\")\n",
        "print(f\"Testing split input : {X_test.shape}\")\n",
        "print(f\"Training split class: {y_train.shape}\")\n",
        "print(f\"Testing split class : {y_test.shape}\")\n"
      ],
      "id": "aHzBZ9PTTb8V",
      "execution_count": 44,
      "outputs": [
        {
          "output_type": "stream",
          "name": "stdout",
          "text": [
            "Training split input: (799, 9851)\n",
            "Testing split input : (200, 9851)\n",
            "Training split class: (799,)\n",
            "Testing split class : (200,)\n"
          ]
        }
      ]
    },
    {
      "cell_type": "code",
      "metadata": {
        "colab": {
          "base_uri": "https://localhost:8080/"
        },
        "id": "-2XKJFMrvkHY",
        "outputId": "dae2709e-d3dd-4c87-a53d-f0e814280ed5"
      },
      "source": [
        "models = {\n",
        "    \"Random Forest\": {\"model\":RandomForestClassifier(), \"perf\":0, \"y_pred\" : 0},\n",
        "    \"Gradient Boosting\": {\"model\":GradientBoostingClassifier(), \"perf\":0, \"y_pred\" : 0},\n",
        "    \"XGBoost\": {\"model\":XGBClassifier(eval_metric='mlogloss'), \"perf\":0, \"y_pred\" : 0},\n",
        "    \"MultinomialNB\": {\"model\":MultinomialNB(), \"perf\":0, \"y_pred\" : 0},\n",
        "    \"Logistic Regr.\": {\"model\":LogisticRegression(), \"perf\":0, \"y_pred\" : 0},\n",
        "    \"KNN\": {\"model\":KNeighborsClassifier(), \"perf\":0, \"y_pred\" : 0},\n",
        "    \"Decision Tree\": {\"model\":DecisionTreeClassifier(), \"perf\":0, \"y_pred\" : 0},\n",
        "    \"SVM (Linear)\": {\"model\":LinearSVC(), \"perf\":0, \"y_pred\" : 0},\n",
        "    \"SVM (RBF)\": {\"model\":SVC(), \"perf\":0, \"y_pred\" : 0}\n",
        "}\n",
        "\n",
        "for name, model in models.items():\n",
        "    start = perf_counter()\n",
        "    model['model'].fit(X_train, y_train)\n",
        "    duration = perf_counter() - start\n",
        "    duration = round(duration,2)\n",
        "    model[\"perf\"] = duration\n",
        "    print(f\"{name:20} trained in {duration} sec\")"
      ],
      "id": "-2XKJFMrvkHY",
      "execution_count": 45,
      "outputs": [
        {
          "output_type": "stream",
          "name": "stdout",
          "text": [
            "Random Forest        trained in 0.78 sec\n",
            "Gradient Boosting    trained in 1.66 sec\n",
            "XGBoost              trained in 1.22 sec\n",
            "MultinomialNB        trained in 0.0 sec\n",
            "Logistic Regr.       trained in 0.03 sec\n",
            "KNN                  trained in 0.0 sec\n",
            "Decision Tree        trained in 0.14 sec\n",
            "SVM (Linear)         trained in 0.0 sec\n",
            "SVM (RBF)            trained in 0.23 sec\n"
          ]
        }
      ]
    },
    {
      "cell_type": "code",
      "metadata": {
        "id": "CYlXLqcZvkDy"
      },
      "source": [
        "models_acc = []\n",
        "for name, model in models.items():\n",
        "    models_acc.append([name, model[\"model\"].score(X_test, y_test),model[\"perf\"]])"
      ],
      "id": "CYlXLqcZvkDy",
      "execution_count": 46,
      "outputs": []
    },
    {
      "cell_type": "code",
      "metadata": {
        "colab": {
          "base_uri": "https://localhost:8080/",
          "height": 324
        },
        "id": "w4inCqAavkAg",
        "outputId": "480ff323-c6b9-4aea-dedf-ba495844cd4b"
      },
      "source": [
        "df_acc = pd.DataFrame(models_acc)\n",
        "df_acc.columns = ['Model', 'Accuracy w/o scaling', 'Training time (sec)']\n",
        "df_acc.sort_values(by = 'Accuracy w/o scaling', ascending = False, inplace=True)\n",
        "df_acc.reset_index(drop = True, inplace=True)\n",
        "df_acc"
      ],
      "id": "w4inCqAavkAg",
      "execution_count": 47,
      "outputs": [
        {
          "output_type": "execute_result",
          "data": {
            "text/html": [
              "<div>\n",
              "<style scoped>\n",
              "    .dataframe tbody tr th:only-of-type {\n",
              "        vertical-align: middle;\n",
              "    }\n",
              "\n",
              "    .dataframe tbody tr th {\n",
              "        vertical-align: top;\n",
              "    }\n",
              "\n",
              "    .dataframe thead th {\n",
              "        text-align: right;\n",
              "    }\n",
              "</style>\n",
              "<table border=\"1\" class=\"dataframe\">\n",
              "  <thead>\n",
              "    <tr style=\"text-align: right;\">\n",
              "      <th></th>\n",
              "      <th>Model</th>\n",
              "      <th>Accuracy w/o scaling</th>\n",
              "      <th>Training time (sec)</th>\n",
              "    </tr>\n",
              "  </thead>\n",
              "  <tbody>\n",
              "    <tr>\n",
              "      <th>0</th>\n",
              "      <td>MultinomialNB</td>\n",
              "      <td>0.830</td>\n",
              "      <td>0.00</td>\n",
              "    </tr>\n",
              "    <tr>\n",
              "      <th>1</th>\n",
              "      <td>SVM (Linear)</td>\n",
              "      <td>0.830</td>\n",
              "      <td>0.00</td>\n",
              "    </tr>\n",
              "    <tr>\n",
              "      <th>2</th>\n",
              "      <td>Logistic Regr.</td>\n",
              "      <td>0.820</td>\n",
              "      <td>0.03</td>\n",
              "    </tr>\n",
              "    <tr>\n",
              "      <th>3</th>\n",
              "      <td>Random Forest</td>\n",
              "      <td>0.815</td>\n",
              "      <td>0.78</td>\n",
              "    </tr>\n",
              "    <tr>\n",
              "      <th>4</th>\n",
              "      <td>SVM (RBF)</td>\n",
              "      <td>0.815</td>\n",
              "      <td>0.23</td>\n",
              "    </tr>\n",
              "    <tr>\n",
              "      <th>5</th>\n",
              "      <td>Gradient Boosting</td>\n",
              "      <td>0.750</td>\n",
              "      <td>1.66</td>\n",
              "    </tr>\n",
              "    <tr>\n",
              "      <th>6</th>\n",
              "      <td>XGBoost</td>\n",
              "      <td>0.740</td>\n",
              "      <td>1.22</td>\n",
              "    </tr>\n",
              "    <tr>\n",
              "      <th>7</th>\n",
              "      <td>Decision Tree</td>\n",
              "      <td>0.670</td>\n",
              "      <td>0.14</td>\n",
              "    </tr>\n",
              "    <tr>\n",
              "      <th>8</th>\n",
              "      <td>KNN</td>\n",
              "      <td>0.645</td>\n",
              "      <td>0.00</td>\n",
              "    </tr>\n",
              "  </tbody>\n",
              "</table>\n",
              "</div>"
            ],
            "text/plain": [
              "               Model  Accuracy w/o scaling  Training time (sec)\n",
              "0      MultinomialNB                 0.830                 0.00\n",
              "1       SVM (Linear)                 0.830                 0.00\n",
              "2     Logistic Regr.                 0.820                 0.03\n",
              "3      Random Forest                 0.815                 0.78\n",
              "4          SVM (RBF)                 0.815                 0.23\n",
              "5  Gradient Boosting                 0.750                 1.66\n",
              "6            XGBoost                 0.740                 1.22\n",
              "7      Decision Tree                 0.670                 0.14\n",
              "8                KNN                 0.645                 0.00"
            ]
          },
          "metadata": {},
          "execution_count": 47
        }
      ]
    },
    {
      "cell_type": "code",
      "metadata": {
        "colab": {
          "base_uri": "https://localhost:8080/",
          "height": 369
        },
        "id": "CHlMwbRT2Nhp",
        "outputId": "c3a8eea6-0ea7-47f4-dab4-c096342746d5"
      },
      "source": [
        "# Bar plot for accuracy\n",
        "plt.figure(figsize = (15,5))\n",
        "sns.barplot(x = 'Model', y = 'Accuracy w/o scaling', data = df_acc)\n",
        "plt.title('Accuracy on the test set\\n(the Y-Axis is between 0.8 and 1.0)', fontsize = 15)\n",
        "plt.ylim(0.5,1)\n",
        "plt.show()\n"
      ],
      "id": "CHlMwbRT2Nhp",
      "execution_count": 48,
      "outputs": [
        {
          "output_type": "display_data",
          "data": {
            "image/png": "[encoded data removed]",
            "text/plain": [
              "<Figure size 1080x360 with 1 Axes>"
            ]
          },
          "metadata": {
            "needs_background": "light"
          }
        }
      ]
    }
  ]
}